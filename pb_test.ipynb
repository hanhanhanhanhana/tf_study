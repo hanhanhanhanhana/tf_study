{
 "metadata": {
  "language_info": {
   "codemirror_mode": {
    "name": "ipython",
    "version": 3
   },
   "file_extension": ".py",
   "mimetype": "text/x-python",
   "name": "python",
   "nbconvert_exporter": "python",
   "pygments_lexer": "ipython3",
   "version": "3.6.9-final"
  },
  "orig_nbformat": 2,
  "kernelspec": {
   "name": "python3",
   "display_name": "Python 3.6.9 64-bit (conda)",
   "metadata": {
    "interpreter": {
     "hash": "1ab77427693a4b7ceb51fb317702d89c249383ff4240a52f709ec29217d4ce95"
    }
   }
  }
 },
 "nbformat": 4,
 "nbformat_minor": 2,
 "cells": [
  {
   "cell_type": "code",
   "execution_count": 8,
   "metadata": {},
   "outputs": [],
   "source": [
    "import tensorflow as tf\n",
    "import numpy as np\n",
    "import PIL.Image as Image\n",
    "import xNN\n",
    "xNN.load_ito_ops()"
   ]
  },
  {
   "cell_type": "code",
   "execution_count": 7,
   "metadata": {},
   "outputs": [],
   "source": [
    "# 用pb做inference\n",
    "def inference(jpg_path, pb_file_path):\n",
    "    with tf.Graph().as_default():\n",
    "        output_graph_def = tf.GraphDef()\n",
    "\n",
    "        with open(pb_file_path, \"rb\") as f:\n",
    "            output_graph_def.ParseFromString(f.read())\n",
    "            _ = tf.import_graph_def(output_graph_def, name=\"\")\n",
    "\n",
    "        with tf.Session() as sess:\n",
    "            init = tf.global_variables_initializer()\n",
    "            sess.run(init)\n",
    "\n",
    "            input_x = sess.graph.get_tensor_by_name(\"input/placeholder:0\")\n",
    "            print(input_x)\n",
    "            out_softmax = sess.graph.get_tensor_by_name(\"MobilenetV3/Logits/output:0\")\n",
    "            print(out_softmax)\n",
    "\n",
    "            img = Image.open(jpg_path)\n",
    "            print(img.size)\n",
    "            img = img.resize((224, 224))\n",
    "            img = np.array(img)\n",
    "            print(img.shape)\n",
    "            img = (img / 127.5) - 1.0\n",
    "            img_out_softmax = sess.run(out_softmax, feed_dict={input_x:np.reshape(img, [-1, 224, 224, 3])})\n",
    "\n",
    "            print(\"img_out_softmax:\",img_out_softmax)\n",
    "            prediction_labels = np.argmax(img_out_softmax, axis=1)\n",
    "            print(\"label:\",prediction_labels)\n",
    "\n",
    "# inference(\"bus.jpg\", \"AUTO-inference.pb\")"
   ]
  },
  {
   "cell_type": "code",
   "execution_count": 56,
   "metadata": {
    "tags": []
   },
   "outputs": [
    {
     "output_type": "stream",
     "name": "stdout",
     "text": [
      "['MobilenetV3/expanded_conv_9/expand/weights/weight_optimize/ito/quant/max', 'MobilenetV3/expanded_conv_9/expand/weights/weight_optimize/ito/quant/absmax_ema', 'MobilenetV3/expanded_conv_9/expand/BatchNorm/gamma', 'MobilenetV3/expanded_conv_9/expand/weights/weight_optimize/ito/prune/update_mask', 'MobilenetV3/expanded_conv_9/expand/weights/weight_optimize/ito/step', 'MobilenetV3/expanded_conv_9/expand/weights/weight_optimize/ito/quant/min', 'MobilenetV3/expanded_conv_9/expand/BatchNorm/beta', 'MobilenetV3/expanded_conv_9/expand/BatchNorm/moving_mean', 'MobilenetV3/expanded_conv_9/expand/BatchNorm/moving_variance', 'MobilenetV3/expanded_conv_9/expand/weights', 'MobilenetV3/expanded_conv_9/expand/weights/weight_optimize/ito/prune/mask', 'MobilenetV3/expanded_conv_9/expand/weights/weight_optimize/ito/prune/prune_percent']\n-0.01858414\n29.914358\n1.4044236\n1.4314002\n[-5.963e-02  1.154e-01 -9.664e-02 -1.232e-01  4.882e-02 -1.454e-01\n  1.129e-01  6.263e-02  9.434e-02  1.079e-01 -1.384e-01  5.084e-02\n  5.396e-02  2.333e-02 -7.658e-02  1.214e-01 -9.585e-02 -9.133e-02\n -2.482e-01 -8.484e-02  6.854e-02 -1.047e-02  1.287e-01 -4.416e-02\n -4.763e-02  1.263e-02 -2.437e-01 -1.982e-02  3.299e-02 -5.375e-02\n -1.455e-01  1.056e-01 -4.296e-02 -4.449e-02 -1.066e-01  9.544e-03\n  3.199e-02 -1.087e-01 -1.791e-01  1.411e-01 -1.521e-01 -2.405e-02\n  6.280e-02  9.169e-02 -3.969e-02  2.685e-02 -2.259e-02  1.001e-01\n  3.829e-02  1.985e-01  1.522e-01 -1.161e-01 -8.757e-02  2.528e-01\n  1.274e-01  2.408e-02  2.075e-01 -2.936e-02  8.411e-02  2.545e-04\n -2.066e-02 -1.294e-02  2.224e-01  9.754e-02 -1.322e-02  1.491e-01\n -1.282e-01  2.862e-02  1.013e-01 -1.566e-01  6.785e-02  4.218e-01\n  5.632e-02  2.543e-01  1.072e-02  8.586e-02  1.441e-01 -4.299e-02\n -9.483e-02  7.455e-02 -1.607e-02  8.427e-02  4.162e-01  1.154e-01\n -8.688e-02 -3.477e-02 -2.921e-02 -2.447e-01 -6.475e-02 -8.765e-02\n -1.329e-04 -5.633e-02  1.328e-01  3.437e-03  9.758e-03  1.947e-01]\n[-0.011  0.035 -0.02  -0.027  0.018 -0.033  0.034  0.021  0.03   0.033\n -0.031  0.018  0.019  0.011 -0.015  0.037 -0.02  -0.019 -0.06  -0.017\n  0.023  0.002  0.039 -0.007 -0.008  0.008 -0.059 -0.     0.013 -0.009\n -0.033  0.032 -0.006 -0.007 -0.023  0.007  0.013 -0.024 -0.042  0.042\n -0.035 -0.001  0.021  0.029 -0.006  0.012 -0.001  0.031  0.015  0.057\n  0.045 -0.026 -0.018  0.071  0.038  0.011  0.059 -0.003  0.027  0.005\n -0.001  0.001  0.063  0.03   0.001  0.044 -0.029  0.012  0.031 -0.036\n  0.023  0.115  0.02   0.071  0.008  0.027  0.043 -0.006 -0.02   0.024\n  0.001  0.027  0.114  0.035 -0.018 -0.004 -0.003 -0.059 -0.012 -0.018\n  0.005 -0.01   0.04   0.006  0.007  0.056]\n"
     ]
    }
   ],
   "source": [
    "\n",
    "from tensorflow.python import pywrap_tensorflow\n",
    "\n",
    "# 从ckpt中读取信息\n",
    "ckpt_path = 'model_final.ckpt'\n",
    "reader = pywrap_tensorflow.NewCheckpointReader(ckpt_path)\n",
    "reader.get_tensor\n",
    "var_names = [name for name in reader.get_variable_to_shape_map().keys()]\n",
    "var_names_deri = [name for name in var_names if 'expanded_conv_9/expand' in name]\n",
    "print(var_names_deri)\n",
    "var_name_desi = 'MobilenetV3/expanded_conv_9/expand/weights'\n",
    "tensor = reader.get_tensor(var_name_desi)\n",
    "mean = reader.get_tensor('MobilenetV3/expanded_conv_9/expand/BatchNorm/moving_mean')\n",
    "vari = reader.get_tensor('MobilenetV3/expanded_conv_9/expand/BatchNorm/moving_variance')\n",
    "gamma = reader.get_tensor('MobilenetV3/expanded_conv_9/expand/BatchNorm/gamma')\n",
    "beta = reader.get_tensor('MobilenetV3/expanded_conv_9/expand/BatchNorm/beta')\n",
    "tensor = tensor.transpose(0,1,3,2)\n",
    "tensor = tensor.squeeze(0).squeeze(0)\n",
    "print(mean[0])\n",
    "print(vari[0])\n",
    "print(gamma[0])\n",
    "print(beta[0])\n",
    "# print(tensor.shape)\n",
    "print(tensor[0])\n",
    "fuse = ((tensor - np.expand_dims(mean, axis=1))/np.expand_dims(np.sqrt(vari), axis=1))*np.expand_dims(beta, axis=1)\n",
    "print(fuse[0])\n",
    "# +np.expand_dims(gamma, axis=1)"
   ]
  },
  {
   "cell_type": "code",
   "execution_count": 38,
   "metadata": {},
   "outputs": [
    {
     "output_type": "stream",
     "name": "stdout",
     "text": [
      "(1, 1, 96, 576)\n[-1.531e-02  2.963e-02 -2.481e-02 -3.162e-02  1.254e-02 -3.735e-02\n  2.899e-02  1.608e-02  2.422e-02  2.772e-02 -3.553e-02  1.306e-02\n  1.386e-02  5.992e-03 -1.966e-02  3.118e-02 -2.461e-02 -2.345e-02\n -6.373e-02 -2.178e-02  1.760e-02 -2.689e-03  3.306e-02 -1.134e-02\n -1.223e-02  3.243e-03 -6.257e-02 -5.088e-03  8.471e-03 -1.380e-02\n -3.736e-02  2.711e-02 -1.103e-02 -1.143e-02 -2.738e-02  2.451e-03\n  8.213e-03 -2.791e-02 -4.600e-02  3.623e-02 -3.906e-02 -6.176e-03\n  1.613e-02  2.354e-02 -1.019e-02  6.894e-03 -5.801e-03  2.570e-02\n  9.833e-03  5.098e-02  3.908e-02 -2.981e-02 -2.249e-02  6.491e-02\n  3.270e-02  6.183e-03  5.329e-02 -7.539e-03  2.160e-02  6.536e-05\n -5.304e-03 -3.322e-03  5.712e-02  2.504e-02 -3.396e-03  3.828e-02\n -3.293e-02  7.349e-03  2.600e-02 -4.021e-02  1.742e-02  1.083e-01\n  1.446e-02  6.529e-02  2.752e-03  2.205e-02  3.699e-02 -1.104e-02\n -2.435e-02  1.914e-02 -4.126e-03  2.164e-02  1.069e-01  2.964e-02\n -2.231e-02 -8.928e-03 -7.499e-03 -6.284e-02 -1.663e-02 -2.251e-02\n -3.412e-05 -1.446e-02  3.410e-02  8.826e-04  2.506e-03  4.999e-02]\n"
     ]
    }
   ],
   "source": [
    "from tensorflow.python.platform import gfile\n",
    "\n",
    "sess = tf.Session()\n",
    "with gfile.FastGFile('AUTO-inference.pb', 'rb') as f:\n",
    "    graph_def = tf.GraphDef()\n",
    "    graph_def.ParseFromString(f.read())\n",
    "    sess.graph.as_default()\n",
    "    tf.import_graph_def(graph_def, name='') # 导入计算图\n",
    "\n",
    "# 需要有一个初始化的过程    \n",
    "sess.run(tf.global_variables_initializer())\n",
    "bn_fuse_name = sess.graph.get_tensor_by_name('MobilenetV3/expanded_conv_9/expand/mul_fold:0')\n",
    "print(bn_fuse_name.shape)\n",
    "val = sess.run(bn_fuse_name).transpose(0,1,3,2)\n",
    "print(val[0][0][0])"
   ]
  },
  {
   "cell_type": "code",
   "execution_count": null,
   "metadata": {},
   "outputs": [],
   "source": []
  }
 ]
}