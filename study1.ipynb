{
 "metadata": {
  "language_info": {
   "codemirror_mode": {
    "name": "ipython",
    "version": 3
   },
   "file_extension": ".py",
   "mimetype": "text/x-python",
   "name": "python",
   "nbconvert_exporter": "python",
   "pygments_lexer": "ipython3",
   "version": "3.6.9-final"
  },
  "orig_nbformat": 2,
  "kernelspec": {
   "name": "python3",
   "display_name": "Python 3.6.9 64-bit (conda)",
   "metadata": {
    "interpreter": {
     "hash": "1ab77427693a4b7ceb51fb317702d89c249383ff4240a52f709ec29217d4ce95"
    }
   }
  }
 },
 "nbformat": 4,
 "nbformat_minor": 2,
 "cells": [
  {
   "cell_type": "code",
   "execution_count": 1,
   "metadata": {},
   "outputs": [],
   "source": [
    "import tensorflow as tf\n",
    "import cv2\n",
    "import numpy as np"
   ]
  },
  {
   "cell_type": "code",
   "execution_count": 2,
   "metadata": {},
   "outputs": [],
   "source": [
    "def main():\n",
    "    input_node = tf.placeholder(shape=[None,390,690,3], dtype=tf.float32)\n",
    "    training_node = tf.placeholder(shape=[], dtype=tf.bool, name='training')\n",
    "\n",
    "    net = tf.layers.conv2d(input_node, 32, (3, 3), strides=(2, 2), padding='same', name='conv_1')\n",
    "    net = tf.layers.batch_normalization(net, training=training_node, name='bn')\n",
    "    net = tf.layers.conv2d(net, 32, (3, 3), strides=(1, 1), padding='same', name='conv_2')\n",
    "    net = tf.layers.dropout(net, rate=0.6, training=training_node, name='dropout')\n",
    "    tf.identity(net, name='final')\n",
    "    \n",
    "    with tf.Session() as sess:\n",
    "        sess.run(tf.global_variables_initializer())\n",
    "        sess.run(tf.local_variables_initializer())\n",
    "        \n",
    "        # save pb\n",
    "        # frozen_graph = tf.graph_util.convert_variables_to_constants(\n",
    "        #     sess, tf.get_default_graph().as_graph_def(), ['final']\n",
    "        # )\n",
    "        # tf.io.write_graph(frozen_graph, \"./\", \"frozen_model.pb\", as_text=False)\n",
    "\n",
    "        \n",
    "        # debug_node = tf.get_default_graph().get_tensor_by_name(\"bn/cond/Merge:0\") # for bn\n",
    "        debug_node = tf.get_default_graph().get_tensor_by_name(\"final:0\") # for dropout\n",
    "        image = cv2.imread('./he.jpg')\n",
    "        image = np.expand_dims(image, 0)\n",
    "\n",
    "        # show the dif between training and infer\n",
    "        # training\n",
    "        result = sess.run(debug_node, feed_dict={input_node: image, training_node: True})\n",
    "        print('training true:',result[0, 22:28, 22:28, 0])\n",
    "        # infer\n",
    "        result = sess.run(debug_node, feed_dict={input_node: image, training_node: False})\n",
    "        print('training true:',result[0, 22:28, 22:28, 0])\n",
    "        \n"
   ]
  },
  {
   "cell_type": "code",
   "execution_count": 3,
   "metadata": {},
   "outputs": [
    {
     "output_type": "stream",
     "name": "stdout",
     "text": [
      "WARNING:tensorflow:From <ipython-input-2-47d5142a0fc0>:5: conv2d (from tensorflow.python.layers.convolutional) is deprecated and will be removed in a future version.\n",
      "Instructions for updating:\n",
      "Use keras.layers.conv2d instead.\n",
      "WARNING:tensorflow:From /home/xqueeze/anaconda2/envs/pytorch/lib/python3.6/site-packages/tensorflow/python/framework/op_def_library.py:263: colocate_with (from tensorflow.python.framework.ops) is deprecated and will be removed in a future version.\n",
      "Instructions for updating:\n",
      "Colocations handled automatically by placer.\n",
      "WARNING:tensorflow:From <ipython-input-2-47d5142a0fc0>:6: batch_normalization (from tensorflow.python.layers.normalization) is deprecated and will be removed in a future version.\n",
      "Instructions for updating:\n",
      "Use keras.layers.batch_normalization instead.\n",
      "WARNING:tensorflow:From <ipython-input-2-47d5142a0fc0>:8: dropout (from tensorflow.python.layers.core) is deprecated and will be removed in a future version.\n",
      "Instructions for updating:\n",
      "Use keras.layers.dropout instead.\n",
      "WARNING:tensorflow:From /home/xqueeze/anaconda2/envs/pytorch/lib/python3.6/site-packages/tensorflow/python/keras/layers/core.py:143: calling dropout (from tensorflow.python.ops.nn_ops) with keep_prob is deprecated and will be removed in a future version.\n",
      "Instructions for updating:\n",
      "Please use `rate` instead of `keep_prob`. Rate should be set to `rate = 1 - keep_prob`.\n",
      "training true: [[ 0.          0.          2.6153605   0.          0.          0.        ]\n",
      " [ 0.          6.703691    8.969383    0.          8.416627    6.873234  ]\n",
      " [ 0.          0.          5.861138    0.          0.          3.8387198 ]\n",
      " [ 4.262816    0.          0.          0.          0.55370957 -0.        ]\n",
      " [ 0.8883907   0.         -0.         -0.         -0.         -0.        ]\n",
      " [-0.         -3.4195528   1.4701792  -0.         -2.1466167  -1.7972486 ]]\n",
      "training true: [[  3.9678528    1.1959321    6.477589    15.861027    30.025572\n",
      "   48.530426  ]\n",
      " [ 28.357777    37.786644    61.865604    74.07991     63.389828\n",
      "   46.14922   ]\n",
      " [ 67.83293     60.706726    38.4734      29.873781    26.79657\n",
      "   23.957773  ]\n",
      " [ 27.28393     18.511044     0.7037101    0.89857054  -5.822489\n",
      "  -18.063618  ]\n",
      " [ -1.3812113   -2.8085613   -5.846263   -32.309986   -31.129166\n",
      "  -36.330048  ]\n",
      " [-45.021996   -34.96197      3.047165   -11.241251   -34.99291\n",
      "  -26.171507  ]]\n"
     ]
    }
   ],
   "source": [
    "main()"
   ]
  }
 ]
}